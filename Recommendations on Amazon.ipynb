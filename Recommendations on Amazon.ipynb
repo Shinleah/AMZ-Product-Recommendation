{
 "cells": [
  {
   "cell_type": "markdown",
   "metadata": {},
   "source": [
    "## Amazon Recommendation System\n",
    "\n",
    "In this project, I looked at datasets from Amazon reviews.  The dataset comes from https://jmcauley.ucsd.edu/data/amazon/, and is a subset of a large datasets just showing reviews for musical instruments. Only UserID, ItemID, Rating and Timestamp has been left during data cleaning process as we will be focusing on Item ID and Rating for each product.\n",
    "\n",
    "The project's aim was to understand recommendation algorithms, optimizing product suggestions for new and existing users based on their preferences and behavior. To achieve this, I created question that can be answers for business units, ensuring alignment and effective implementation. The focus was on unraveling recommendation algorithms to enhance user experience through personalized product recommendations.\n"
   ]
  },
  {
   "cell_type": "code",
   "execution_count": 1,
   "metadata": {},
   "outputs": [],
   "source": [
    "##load some packages\n",
    "import random\n",
    "import pandas\n",
    "import matplotlib.pyplot as plt\n",
    "import numpy as np\n",
    "\n",
    "## this will optimize our math\n",
    "from scipy.sparse import csr_matrix as sparse_matrix\n",
    "from sklearn.neighbors import NearestNeighbors\n",
    "import os\n"
   ]
  },
  {
   "cell_type": "code",
   "execution_count": 2,
   "metadata": {},
   "outputs": [],
   "source": [
    "## read in the data set\n",
    "amazon = pandas.read_csv(\"ratings_Musical_Instruments.csv\",names=(\"user\",\"item\",\"rating\",\"timestamp\"))"
   ]
  },
  {
   "attachments": {},
   "cell_type": "markdown",
   "metadata": {},
   "source": [
    "### Part 1: Descriptive Questions:"
   ]
  },
  {
   "attachments": {},
   "cell_type": "markdown",
   "metadata": {},
   "source": [
    "\n",
    "* How big is the dataset, in rows and columns?\n",
    "* How many unique users are there?\n",
    "* How many unique items are there?"
   ]
  },
  {
   "cell_type": "code",
   "execution_count": 3,
   "metadata": {},
   "outputs": [
    {
     "name": "stdout",
     "output_type": "stream",
     "text": [
      "The dataset has 500176 rows and 4 columns.\n",
      "There are 339231 unique users in the dataset.\n",
      "There are 83046 unique items in the dataset.\n"
     ]
    }
   ],
   "source": [
    "# How big is the dataset, in rows and columns?\n",
    "print(\"The dataset has\", amazon.shape[0], \"rows and\", amazon.shape[1], \"columns.\")\n",
    "\n",
    "# How many unique users are there?\n",
    "unique_users = amazon['user'].nunique()\n",
    "print(\"There are\", unique_users, \"unique users in the dataset.\")\n",
    "\n",
    "# How many unique items are there?\n",
    "unique_items = amazon['item'].nunique()\n",
    "print(\"There are\", unique_items, \"unique items in the dataset.\")\n",
    "\n"
   ]
  },
  {
   "attachments": {},
   "cell_type": "markdown",
   "metadata": {},
   "source": [
    "\n",
    "* The user who rated the most instruments has rated how many items?\n",
    "* The item with the MOST ratings is what? How many ratings does it have?  Hint: Check out the Amazon website, by going to \"www.amazon.com/dp/item_code\", where you put the item into item_code.\n",
    "* The item with the highest mean average rating is what?  What is the rating?"
   ]
  },
  {
   "cell_type": "code",
   "execution_count": 4,
   "metadata": {},
   "outputs": [
    {
     "name": "stdout",
     "output_type": "stream",
     "text": [
      "The user with the most ratings is A2PAD826IH1HFE and they have rated 483 items.\n",
      "The item with the most ratings is B000ULAP4U and it has 3523 ratings.\n",
      "The item with the highest mean average rating is 0014072149 and its rating is 5.0\n"
     ]
    }
   ],
   "source": [
    "# The user who rated the most instruments has rated how many items?\n",
    "user_ratings = amazon['user'].value_counts()\n",
    "most_ratings_user = user_ratings.index[0]\n",
    "most_ratings_count = user_ratings.iloc[0]\n",
    "print(\"The user with the most ratings is\", most_ratings_user, \"and they have rated\", most_ratings_count, \"items.\")\n",
    "\n",
    "# The item with the MOST ratings is what? How many ratings does it have?\n",
    "item_ratings = amazon['item'].value_counts()\n",
    "most_ratings_item = item_ratings.index[0]\n",
    "most_ratings_item_count = item_ratings.iloc[0]\n",
    "print(\"The item with the most ratings is\", most_ratings_item, \"and it has\", most_ratings_item_count, \"ratings.\")\n",
    "\n",
    "# The item with the highest mean average rating is what? What is the rating?\n",
    "item_mean_ratings = amazon.groupby('item')['rating'].mean()\n",
    "highest_mean_item = item_mean_ratings.idxmax()\n",
    "highest_mean_rating = item_mean_ratings.max()\n",
    "print(\"The item with the highest mean average rating is\", highest_mean_item, \"and its rating is\", highest_mean_rating)\n",
    "\n"
   ]
  },
  {
   "attachments": {},
   "cell_type": "markdown",
   "metadata": {},
   "source": [
    "* What is the item with the lowest mean average?  What is the rating?\n",
    "* If we built a matrix with all of the users and items, how large would it be? (dimensions, and how many total entries)\n",
    "* Looking at the size of the dataset, what is the percentage of non-zero entries in the matrix?"
   ]
  },
  {
   "cell_type": "code",
   "execution_count": 5,
   "metadata": {},
   "outputs": [
    {
     "name": "stdout",
     "output_type": "stream",
     "text": [
      "The item with the lowest mean average rating is 0201891859 and its rating is 1.0\n",
      "The user-item matrix would be 339231 rows by 83046 columns.\n",
      "It would have a total of 28171777626 entries.\n",
      "The percentage of non-zero entries in the user-item matrix is 0.0 %.\n"
     ]
    }
   ],
   "source": [
    "# What is the item with the lowest mean average? What is the rating?\n",
    "item_mean_ratings = amazon.groupby('item')['rating'].mean()\n",
    "lowest_mean_item = item_mean_ratings.idxmin()\n",
    "lowest_mean_rating = item_mean_ratings.min()\n",
    "print(\"The item with the lowest mean average rating is\", lowest_mean_item, \"and its rating is\", lowest_mean_rating)\n",
    "\n",
    "# If we built a matrix with all of the users and items, how large would it be?\n",
    "users = amazon[\"user\"].unique()\n",
    "items = amazon[\"item\"].unique()\n",
    "num_users = len(users)\n",
    "num_items = len(items)\n",
    "\n",
    "print(\"The user-item matrix would be\", num_users, \"rows by\", num_items, \"columns.\")\n",
    "print(\"It would have a total of\", num_users * num_items, \"entries.\")\n",
    "\n",
    "# Looking at the size of the dataset, what is the percentage of non-zero entries in the matrix?\n",
    "matrix_rows, matrix_columns = len(users), len(items)\n",
    "nonzero_entries = amazon.shape[0]\n",
    "total_entries = matrix_rows * matrix_columns\n",
    "percent_nonzero_entries = nonzero_entries / total_entries * 100\n",
    "print(\"The percentage of non-zero entries in the user-item matrix is\", round(percent_nonzero_entries, 2), \"%.\")"
   ]
  },
  {
   "cell_type": "code",
   "execution_count": 6,
   "metadata": {},
   "outputs": [],
   "source": [
    "## Here, redefine the following, for later on:\n",
    "\n",
    "n = 83046 # the number of unique items (not 10!)\n",
    "d = 339231 # the number of unique users (more than 6!)\n"
   ]
  },
  {
   "cell_type": "code",
   "execution_count": 7,
   "metadata": {},
   "outputs": [],
   "source": [
    "## Here I am making a sparse matrix\n",
    "\n",
    "def create_X(ratings,n,d,user_key=\"user\",item_key=\"item\"):\n",
    "    user_mapper = dict(zip(np.unique(ratings[user_key]), list(range(d))))\n",
    "    item_mapper = dict(zip(np.unique(ratings[item_key]), list(range(n))))\n",
    "\n",
    "    user_inverse_mapper = dict(zip(list(range(d)), np.unique(ratings[user_key])))\n",
    "    item_inverse_mapper = dict(zip(list(range(n)), np.unique(ratings[item_key])))\n",
    "\n",
    "    user_ind = [user_mapper[i] for i in ratings[user_key]]\n",
    "    item_ind = [item_mapper[i] for i in ratings[item_key]]\n",
    "\n",
    "    X = sparse_matrix((ratings[\"rating\"], (item_ind, user_ind)), shape=(n,d))\n",
    "    \n",
    "    return X, user_mapper, item_mapper, user_inverse_mapper, item_inverse_mapper, user_ind, item_ind\n",
    "\n"
   ]
  },
  {
   "cell_type": "code",
   "execution_count": 8,
   "metadata": {},
   "outputs": [],
   "source": [
    "## define X in a new window\n",
    "\n",
    "X, user_mapper, item_mapper, user_inverse_mapper, item_inverse_mapper, user_ind, item_ind = create_X(amazon, n=n, d=d)"
   ]
  },
  {
   "cell_type": "markdown",
   "metadata": {},
   "source": [
    "## Part 2: Try some Machine Learning\n",
    "\n",
    "Here, I have build a BASIC recommender for similar items.\n"
   ]
  },
  {
   "attachments": {},
   "cell_type": "markdown",
   "metadata": {},
   "source": [
    "I decided to use KNN with two different iterations to find 5 items that are close to a specific item. Also I fixed the code to avoid algorithm returning the orginal item in the list. "
   ]
  },
  {
   "cell_type": "code",
   "execution_count": 9,
   "metadata": {},
   "outputs": [],
   "source": [
    "### To return the correct user, I'm going use a helper function.\n",
    "\n",
    "def amazon_name (index):\n",
    "    name =amazon.loc[index,]['item']\n",
    "    return(name)\n",
    "\n",
    "def find_nearestneighbour(model, X, query_ind):\n",
    "    nbs = model.kneighbors(X[query_ind], return_distance = False)\n",
    "    return(nbs)\n"
   ]
  },
  {
   "cell_type": "code",
   "execution_count": 10,
   "metadata": {},
   "outputs": [
    {
     "name": "stdout",
     "output_type": "stream",
     "text": [
      "by Euclidean distance, the 5 most similar items to item 6428320 are:\n",
      "B00000DDLN\n",
      "B0002E4Z8M\n",
      "B0002F4WDE\n",
      "B0002F4WDE\n",
      "B0002CZVW8\n"
     ]
    }
   ],
   "source": [
    "##fit the k neighbours model\n",
    "model = NearestNeighbors(n_neighbors=6) # set n_neighbors to 6 to exclude the item itself\n",
    "model.fit(X)\n",
    "\n",
    "##find the neighbours for item 6428320\n",
    "query_index = 0 # index of the item you are trying to find similar items for\n",
    "distances, indices = model.kneighbors(X[query_index], n_neighbors=6) # add one more neighbor to exclude the item itself\n",
    "\n",
    "##return item names\n",
    "print(\"by Euclidean distance, the 5 most similar items to item 6428320 are:\")\n",
    "for i in range(1, 6): # start the loop from 1 to exclude the first item (which is itself)\n",
    "    index = indices[0][i]\n",
    "    print(amazon_name(index))"
   ]
  },
  {
   "attachments": {},
   "cell_type": "markdown",
   "metadata": {},
   "source": [
    "* Explain why you decided to use this model and create recommendation system."
   ]
  },
  {
   "attachments": {},
   "cell_type": "markdown",
   "metadata": {},
   "source": [
    "KNN, or k-nearest neighbors, is a valuable technique in recommendation systems, particularly in user-based collaborative filtering. This approach leverages the ratings of similar users to predict the rating of an item for a specific user. The underlying principle is that individuals who have shown preferences for similar items in the past are likely to exhibit similar preferences in the future. KNN serves as an effective method for making recommendations by identifying and considering the preferences of users with similar tastes.\n",
    "\n",
    "Using the work above, I created a recommendation system based on KNN and tracing back to sparse matrix to find the user's 5 similar KNN(users with similar taste). \n",
    "Once done, I asked the program to save the list of the top 5 similar user and find their highest average rated items from dataframe. \n",
    "Then I asked the program to get top 5 highest average rating and display the item names along with thier ratings. \n",
    "\n",
    "* Assumption:\n",
    " There is a high chance of correlation between users based on the list of the items chosen and rated."
   ]
  },
  {
   "cell_type": "code",
   "execution_count": 11,
   "metadata": {},
   "outputs": [],
   "source": [
    "def amazon_name (index):\n",
    "    name =amazon.loc[index,]['user']\n",
    "    return(name)\n",
    "\n",
    "def find_nearestneighbour(model, X, query_ind):\n",
    "    nbs = model.kneighbors(X[query_ind], return_distance = False)\n",
    "    return(nbs)\n"
   ]
  },
  {
   "cell_type": "code",
   "execution_count": 12,
   "metadata": {},
   "outputs": [
    {
     "name": "stdout",
     "output_type": "stream",
     "text": [
      "by Euclidean distance, the 5 most similar user to userID A1YS9MDZP93857 are:\n",
      "['A2ZEHHKT2ZLJVR', 'ABW2RYQ718C00', 'A26ODZQ7JCFHDO', 'A3KQE8IT5TPG3W', 'A39TYRIZLTCK9P']\n"
     ]
    }
   ],
   "source": [
    "##fit the k neighbours model\n",
    "model = NearestNeighbors(n_neighbors=6) # set n_neighbors to 6 to exclude the item itself\n",
    "model.fit(X)\n",
    "\n",
    "##find the neighbours for user A1YS9MDZP93857\n",
    "query_index = 0 \n",
    "distances, indices = model.kneighbors(X[query_index], n_neighbors=6) # add one more neighbor to exclude the item itself\n",
    "\n",
    "##return item names\n",
    "print(\"by Euclidean distance, the 5 most similar user to userID A1YS9MDZP93857 are:\")\n",
    "#list of users\n",
    "list = []\n",
    "for i in range(1, 6): # start the loop from 1 to exclude the first item (which is itself)\n",
    "    index = indices[0][i]\n",
    "    list.append(amazon_name(index))\n",
    "print(list)"
   ]
  },
  {
   "cell_type": "code",
   "execution_count": 13,
   "metadata": {},
   "outputs": [
    {
     "name": "stdout",
     "output_type": "stream",
     "text": [
      "For the user A1YS9MDZP93857, the algrithm recommends following Top 5 items with highest average rating based on similar users:\n",
      " item\n",
      "B00000DDLN    5.0\n",
      "B000068NVI    5.0\n",
      "B0002E4Z8M    5.0\n",
      "B0002F4WDE    5.0\n",
      "B000EEJ8IM    5.0\n",
      "Name: rating, dtype: float64\n"
     ]
    }
   ],
   "source": [
    "# Find the ratings for the selected users\n",
    "user_ratings = amazon[amazon['user'].isin(list)]\n",
    "\n",
    "# Compute the average rating for each item\n",
    "item_avg_ratings = user_ratings.groupby('item')['rating'].mean()\n",
    "\n",
    "# Find the top 5 items with the highest average rating\n",
    "top_items = item_avg_ratings.sort_values(ascending=False).head(5)\n",
    "\n",
    "print(\"For the user A1YS9MDZP93857, the algrithm recommends following Top 5 items with highest average rating based on similar users:\\n\", top_items)"
   ]
  },
  {
   "attachments": {},
   "cell_type": "markdown",
   "metadata": {},
   "source": [
    "* What are the three top products you would recommend to a new user with no rating or purchasing history?"
   ]
  },
  {
   "attachments": {},
   "cell_type": "markdown",
   "metadata": {},
   "source": [
    "\n",
    "For a new user without any rating or purchasing history, I would recommend the top three products with the highest average ratings. This strategy aims to enhance customer satisfaction by suggesting items that have consistently received positive feedback. By focusing on products with the best average ratings, there is a greater likelihood of satisfying the new user's preferences, as these items have proven to be well-received by previous customers.\n",
    "\n",
    "Therefore, recommending with the highest average rating is the best option. \n",
    "\n",
    "If we can give a quick survay to users when they make thier account to check their preference, we might be able to recommend better products for the user, even if we do not have rating or purchasing history with us. Or, if we can let users to create a profile using google email so that it can integrate user's search engine history to provide better recommendation."
   ]
  },
  {
   "cell_type": "code",
   "execution_count": 14,
   "metadata": {},
   "outputs": [
    {
     "name": "stdout",
     "output_type": "stream",
     "text": [
      "['B001QKQXWW' 'B002GNOMK8' 'B002GOSEME']\n"
     ]
    }
   ],
   "source": [
    "# Calculate the average rating for each item\n",
    "item_ratings = amazon.groupby('item')['rating'].mean()\n",
    "\n",
    "# Sort the items based on their average rating\n",
    "top_items = item_ratings.sort_values(ascending=False).head(3).index.values\n",
    "\n",
    "# Print the resulting top items\n",
    "print(top_items)"
   ]
  },
  {
   "attachments": {},
   "cell_type": "markdown",
   "metadata": {},
   "source": [
    "* What rating do you think a new user would give to item \"B009CIIWQA\"?"
   ]
  },
  {
   "cell_type": "code",
   "execution_count": 15,
   "metadata": {},
   "outputs": [
    {
     "name": "stdout",
     "output_type": "stream",
     "text": [
      "The new user would give item B009CIIWQA 4.008849557522124 out of 5\n"
     ]
    }
   ],
   "source": [
    "item_id = \"B009CIIWQA\"\n",
    "mean_rating = amazon.loc[amazon[\"item\"] == item_id, \"rating\"].mean()\n",
    "print(\"The new user would give item\", item_id, mean_rating, \"out of 5\")"
   ]
  },
  {
   "attachments": {},
   "cell_type": "markdown",
   "metadata": {},
   "source": [
    "\n",
    "* What are the top three products you would recommend to user \"A27L1LDJZVRLJD\"?\n",
    "* What rating do you think user \"A27L1LDJZVRLJD\" would give to the LED music lamp, item \"B009CIIWQA\"?\n"
   ]
  },
  {
   "cell_type": "code",
   "execution_count": 16,
   "metadata": {},
   "outputs": [
    {
     "name": "stdout",
     "output_type": "stream",
     "text": [
      "Index of user 'A27L1LDJZVRLJD': 9066\n"
     ]
    },
    {
     "name": "stderr",
     "output_type": "stream",
     "text": [
      "C:\\Users\\Leah\\AppData\\Local\\Temp\\ipykernel_25444\\2870991956.py:8: FutureWarning: elementwise comparison failed; returning scalar instead, but in the future will perform elementwise comparison\n",
      "  user_index = np.where(X[:, X.getcol(0).toarray().ravel() == 'A27L1LDJZVRLJD'].toarray().ravel() > 0)[0][0]\n"
     ]
    }
   ],
   "source": [
    "from scipy.sparse import csr_matrix\n",
    "\n",
    "# Assuming the sparse matrix `X` has the following rows and columns:\n",
    "# rows = user IDs, columns = item IDs\n",
    "# Load the data into a sparse matrix named `X`\n",
    "\n",
    "# Find the index of user \"A27L1LDJZVRLJD\"\n",
    "user_index = np.where(X[:, X.getcol(0).toarray().ravel() == 'A27L1LDJZVRLJD'].toarray().ravel() > 0)[0][0]\n",
    "\n",
    "print(\"Index of user 'A27L1LDJZVRLJD':\", user_index)"
   ]
  },
  {
   "cell_type": "code",
   "execution_count": 17,
   "metadata": {},
   "outputs": [],
   "source": [
    "### To return the correct item, I'm going to need some helper functions\n",
    "\n",
    "def amazon_name (index):\n",
    "    name =amazon.loc[index,]['user']\n",
    "    return(name)\n",
    "\n",
    "\n",
    "def find_nearestneighbour(model, X, query_ind):\n",
    "    nbs = model.kneighbors(X[query_ind], return_distance = False)\n",
    "    return(nbs)"
   ]
  },
  {
   "cell_type": "code",
   "execution_count": 18,
   "metadata": {},
   "outputs": [
    {
     "name": "stdout",
     "output_type": "stream",
     "text": [
      "by Euclidean distance, the 5 most similar user to userID A27L1LDJZVRLJD are:\n",
      "['AYJ06K64P1316', 'A2ZMBMOTP195Z1', 'A1TCG8ZFPCPZVW', 'A3N8WO094E7QFH', 'APDW069J09OEL']\n"
     ]
    }
   ],
   "source": [
    "##fit the k neighbours model\n",
    "model = NearestNeighbors(n_neighbors=6) # set n_neighbors to 6 to exclude the item itself\n",
    "model.fit(X)\n",
    "\n",
    "##find the neighbours for user A27L1LDJZVRLJD\n",
    "query_index = 9066 # index of the item you are trying to find similar user for\n",
    "distances, indices = model.kneighbors(X[query_index], n_neighbors=6) # add one more neighbor to exclude the item itself\n",
    "\n",
    "##return item names\n",
    "print(\"by Euclidean distance, the 5 most similar user to userID A27L1LDJZVRLJD are:\")\n",
    "#list of users\n",
    "list = []\n",
    "for i in range(1, 6): # start the loop from 1 to exclude the first item (which is itself)\n",
    "    index = indices[0][i]\n",
    "    list.append(amazon_name(index))\n",
    "print(list)"
   ]
  },
  {
   "cell_type": "code",
   "execution_count": 19,
   "metadata": {},
   "outputs": [
    {
     "name": "stdout",
     "output_type": "stream",
     "text": [
      "by Euclidean distance, the 5 most similar user to userID A27L1LDJZVRLJD are:\n",
      "['AYJ06K64P1316', 'A2ZMBMOTP195Z1', 'A1TCG8ZFPCPZVW', 'A3N8WO094E7QFH', 'APDW069J09OEL']\n"
     ]
    }
   ],
   "source": [
    "##find the neighbours for user A27L1LDJZVRLJD\n",
    "query_index = 9066 # index of the item you are trying to find similar user for\n",
    "distances, indices = model.kneighbors(X[query_index], n_neighbors=6) # add one more neighbor to exclude the item itself\n",
    "\n",
    "##return item names\n",
    "print(\"by Euclidean distance, the 5 most similar user to userID A27L1LDJZVRLJD are:\")\n",
    "#list of users\n",
    "list = []\n",
    "for i in range(1, 6): # start the loop from 1 to exclude the first item (which is itself)\n",
    "    index = indices[0][i]\n",
    "    list.append(amazon_name(index))\n",
    "print(list)"
   ]
  },
  {
   "cell_type": "code",
   "execution_count": 20,
   "metadata": {},
   "outputs": [
    {
     "name": "stdout",
     "output_type": "stream",
     "text": [
      "Predicted rating for user 'A27L1LDJZVRLJD' on item 'B009CIIWQA': 0.0\n"
     ]
    }
   ],
   "source": [
    "# Find the index of the item \"B009CIIWQA\"\n",
    "item_index = item_mapper['B009CIIWQA']\n",
    "\n",
    "# Get ratings of similar users for the item \"B009CIIWQA\"\n",
    "similar_users_ratings = X[indices[:, 1:], item_index].toarray().ravel()\n",
    "\n",
    "# Calculate the predicted rating as the average of similar users' ratings\n",
    "predicted_rating = np.mean(similar_users_ratings)\n",
    "\n",
    "# Print the predicted rating\n",
    "print(\"Predicted rating for user 'A27L1LDJZVRLJD' on item 'B009CIIWQA':\", predicted_rating)"
   ]
  },
  {
   "cell_type": "markdown",
   "metadata": {},
   "source": [
    "Based on the 5 most simlar users from User ID A27L1LDJZVRLJD, their rating for the item \"B009CIIWQA\" does not exists meaning that they are not interested on the product. Therefore, if the user 'A27L1LDJZVRLJD' purchased the item 'B009CIIWQA', they will give low rating on the item."
   ]
  }
 ],
 "metadata": {
  "kernelspec": {
   "display_name": "base",
   "language": "python",
   "name": "python3"
  },
  "language_info": {
   "codemirror_mode": {
    "name": "ipython",
    "version": 3
   },
   "file_extension": ".py",
   "mimetype": "text/x-python",
   "name": "python",
   "nbconvert_exporter": "python",
   "pygments_lexer": "ipython3",
   "version": "3.9.13"
  },
  "vscode": {
   "interpreter": {
    "hash": "a077222d77dfe082b8f1dd562ad70e458ac2ab76993a0b248ab0476e32e9e8dd"
   }
  }
 },
 "nbformat": 4,
 "nbformat_minor": 2
}
